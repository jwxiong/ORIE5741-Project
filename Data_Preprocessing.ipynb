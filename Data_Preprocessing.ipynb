{
 "cells": [
  {
   "cell_type": "markdown",
   "metadata": {
    "colab_type": "text",
    "id": "view-in-github"
   },
   "source": [
    "<a href=\"https://colab.research.google.com/github/jwxiong/ORIE5741-Project/blob/main/Data_Preprocessing.ipynb\" target=\"_parent\"><img src=\"https://colab.research.google.com/assets/colab-badge.svg\" alt=\"Open In Colab\"/></a>"
   ]
  },
  {
   "cell_type": "code",
   "execution_count": 1,
   "metadata": {
    "id": "ZRycADxx8x6p"
   },
   "outputs": [],
   "source": [
    "import numpy as np\n",
    "import pandas as pd\n",
    "import matplotlib.pyplot as plt\n",
    "%matplotlib inline\n",
    "import seaborn as sns\n",
    "from datetime import datetime"
   ]
  },
  {
   "cell_type": "code",
   "execution_count": 2,
   "metadata": {
    "id": "W8BdqoE39DmE"
   },
   "outputs": [],
   "source": [
    "funda = pd.read_csv(\"fundamentals.csv\").drop(['Unnamed: 0'], axis = 1)\n",
    "price_adj = pd.read_csv(\"prices-split-adjusted.csv\")\n",
    "securities = pd.read_csv(\"securities.csv\")\n",
    "#https://www.kaggle.com/dgawlik/nyse"
   ]
  },
  {
   "cell_type": "markdown",
   "metadata": {
    "id": "nqUh-HvB9Ln3"
   },
   "source": [
    "reduce scope to finance and REITs that report on Dec 31st"
   ]
  },
  {
   "cell_type": "code",
   "execution_count": 3,
   "metadata": {
    "id": "x48S93YS9Qu1"
   },
   "outputs": [],
   "source": [
    "#find finance and REIT company tickers\n",
    "finance_reit_tickers = list((securities\n",
    " .query(\"`GICS Sector` == 'Financials' or `GICS Sub Industry` == ['REITs','Residential REITs','Office REITs','Retail REITs']\")\n",
    ")['Ticker symbol'])\n",
    "\n",
    "#finance and REIT companies that file on dec 31st\n",
    "finance_reit__dec_file_tickers = list((funda\n",
    " .query(\" `Ticker Symbol` == @finance_reit_tickers and `Period Ending` == '2012-12-31' \")\n",
    ")['Ticker Symbol'])\n",
    "\n",
    "#two normal dataframes. one for fundamentals data and another for general information about the securities\n",
    "relevant_fundamentals = (funda.query(\" `Ticker Symbol` == @finance_reit__dec_file_tickers \"))\n",
    "relevant_securities = (securities.query(\" `Ticker symbol` == @finance_reit__dec_file_tickers \"))"
   ]
  },
  {
   "cell_type": "markdown",
   "metadata": {
    "id": "SyEIeyNy963p"
   },
   "source": [
    "Create stock price dataframe with heirarchical multi index. so there is the higher index which allows you to choose category returns, volume or close price etc. then the lower level index lets you select a stock"
   ]
  },
  {
   "cell_type": "code",
   "execution_count": 4,
   "metadata": {
    "id": "ondKLf7g9963"
   },
   "outputs": [],
   "source": [
    "#create multi index \n",
    "\n",
    "intermediate = (price_adj\n",
    " .assign(date = lambda df: pd.to_datetime(df.date))\n",
    " .query(\" `symbol` == @finance_reit__dec_file_tickers \")\n",
    " .set_index(['date','symbol'])\n",
    " .assign(daily_return = lambda df: (df.close - df.open)/ df.open)\n",
    " .assign(dispersion = lambda df: (df.high - df.low)/ df.open)\n",
    " .unstack()\n",
    ")\n",
    "\n",
    "#create returns variable\n",
    "returns = intermediate['close'].pct_change()\n",
    "returns.columns = pd.MultiIndex.from_product([['returns'],intermediate['close']])\n",
    "\n",
    "#create gap open variable\n",
    "opening = intermediate['open'][:-1].reset_index().drop('date',axis=1)\n",
    "previous_close = intermediate['close'][1:].reset_index().drop('date',axis=1)\n",
    "gap_open = opening/previous_close - 1\n",
    "gap_open = pd.DataFrame([[np.nan] * len(gap_open.columns)], columns=gap_open.columns).append(gap_open, ignore_index=True)\n",
    "gap_open.index = returns.index\n",
    "gap_open.columns = pd.MultiIndex.from_product([['gap_open'],intermediate['close']])\n",
    "\n",
    "#append variables\n",
    "multi_index = pd.concat([intermediate,gap_open,returns],axis=1)[1:]"
   ]
  },
  {
   "cell_type": "markdown",
   "metadata": {
    "id": "UC7Cp3lJ-UWT"
   },
   "source": [
    "Create dataframe of annual returns based on our stock price data, note we only have 3 years of returns data and therefore must reduce our fundamentals data"
   ]
  },
  {
   "cell_type": "code",
   "execution_count": 5,
   "metadata": {
    "id": "6WzV4sMK99-p"
   },
   "outputs": [],
   "source": [
    "returns = multi_index['returns'].copy()\n",
    "annual_rtns = pd.DataFrame(columns=returns.columns)\n",
    "for n in range(2013,2016):\n",
    "    year_start = str(n)+'-03-08'\n",
    "    year_end = str(n+1)+'-03-08'\n",
    "    yearly_rtn = returns[year_start:year_end].apply(lambda x: ((x + 1).cumprod()-1).last(\"D\"))\n",
    "    annual_rtns = pd.concat([annual_rtns,yearly_rtn])"
   ]
  },
  {
   "cell_type": "markdown",
   "metadata": {
    "id": "Wbrm3xluCWhD"
   },
   "source": [
    "annual returns in same shape as fundamentals, prepped for regression, this drops 3 companies who were missing returns in our dataset"
   ]
  },
  {
   "cell_type": "code",
   "execution_count": 6,
   "metadata": {
    "colab": {
     "base_uri": "https://localhost:8080/"
    },
    "id": "SYeGBEjCCLng",
    "outputId": "7865bf4b-180f-4eb2-b45a-e35c7db65e09"
   },
   "outputs": [],
   "source": [
    "non_na_tickers = list(set(finance_reit__dec_file_tickers)-set(annual_rtns.columns[annual_rtns.isna().sum()>0]))\n",
    "\n",
    "y = (annual_rtns.T\n",
    "  .stack()\n",
    "  .reset_index()\n",
    "  .sort_values(['level_1','symbol'])\n",
    "  .query(\" `symbol` == @non_na_tickers \")\n",
    ")[0].values\n",
    "y.shape\n",
    "pd.DataFrame(y).to_csv(\"y_dataframe\")"
   ]
  },
  {
   "cell_type": "markdown",
   "metadata": {},
   "source": [
    "Benchmark"
   ]
  },
  {
   "cell_type": "code",
   "execution_count": 7,
   "metadata": {},
   "outputs": [
    {
     "name": "stdout",
     "output_type": "stream",
     "text": [
      "[*********************100%***********************]  1 of 1 completed\n"
     ]
    }
   ],
   "source": [
    "#!pip install yfinance\n",
    "import yfinance as yf  \n",
    "Benchmark = yf.download('XLF','2013-03-08','2016-03-08')['Adj Close'].pct_change()[1:]\n",
    "\n",
    "#Benchmark\n",
    "annual_benchmark = pd.DataFrame(columns=[Benchmark.name])\n",
    "for n in range(2013,2016):\n",
    "    year_start = str(n)+'-03-08'\n",
    "    year_end = str(n+1)+'-03-08'\n",
    "    yearly_rtn = pd.DataFrame(Benchmark[year_start:year_end]).apply(lambda x: ((x + 1).cumprod()-1).last(\"D\"))\n",
    "    annual_benchmark = pd.concat([annual_benchmark,yearly_rtn])\n",
    "    \n",
    "#financial benchmark\n",
    "annual_benchmark.to_csv(\"benchmark_dataframe\")"
   ]
  },
  {
   "cell_type": "markdown",
   "metadata": {},
   "source": [
    "Interest rate section"
   ]
  },
  {
   "cell_type": "code",
   "execution_count": null,
   "metadata": {},
   "outputs": [],
   "source": [
    "#IR = yf.download([\"^IRX\",'^FVX','^TNX','^TYX'],'2012-03-07','2015-03-08')['Adj Close']"
   ]
  },
  {
   "cell_type": "code",
   "execution_count": 65,
   "metadata": {},
   "outputs": [],
   "source": [
    "#nominal interest rates\n",
    "#percent change from 1 month ago\n",
    "#perct change from 6 months ago"
   ]
  },
  {
   "cell_type": "code",
   "execution_count": 90,
   "metadata": {},
   "outputs": [],
   "source": [
    "nominal_rates = IR.loc[[\"2013-03-08\",\"2014-03-07\",\"2015-03-06\"]]\n",
    "nominal_rates.columns = nominal_rates.columns+\"Nominal\""
   ]
  },
  {
   "cell_type": "code",
   "execution_count": 91,
   "metadata": {},
   "outputs": [],
   "source": [
    "#6 mon change\n",
    "six_mon_changeIR = pd.DataFrame(columns=IR.columns)\n",
    "IR_change = IR.pct_change()\n",
    "for n in range(2012,2015): \n",
    "    year_start = str(n)+'-09-08'\n",
    "    year_end = str(n+1)+'-03-08'\n",
    "    yearly_rtn = IR_change[year_start:year_end].apply(lambda x: ((x + 1).cumprod()-1).last(\"D\"))\n",
    "    six_mon_changeIR = pd.concat([six_mon_changeIR,yearly_rtn])\n",
    "six_mon_changeIR.columns = six_mon_changeIR.columns+\"Pct_chng_6\""
   ]
  },
  {
   "cell_type": "code",
   "execution_count": 92,
   "metadata": {},
   "outputs": [],
   "source": [
    "#1 mon change\n",
    "one_mon_changeIR = pd.DataFrame(columns=IR.columns)\n",
    "IR_change = IR.pct_change()\n",
    "for n in range(2012,2015): \n",
    "    year_start = str(n+1)+'-02-08'\n",
    "    year_end = str(n+1)+'-03-08'\n",
    "    yearly_rtn = IR_change[year_start:year_end].apply(lambda x: ((x + 1).cumprod()-1).last(\"D\"))\n",
    "    one_mon_changeIR = pd.concat([one_mon_changeIR,yearly_rtn])\n",
    "one_mon_changeIR.columns = one_mon_changeIR.columns+\"Pct_chng_1\""
   ]
  },
  {
   "cell_type": "code",
   "execution_count": 95,
   "metadata": {},
   "outputs": [],
   "source": [
    "IR_features = pd.concat([nominal_rates,six_mon_changeIR,one_mon_changeIR],axis=1)"
   ]
  },
  {
   "cell_type": "markdown",
   "metadata": {},
   "source": [
    "Company fundamentals, dropping companies with missing returns data, dropping columns that are missing more than 1/4 of values, only use first 3 years. add IR features"
   ]
  },
  {
   "cell_type": "code",
   "execution_count": null,
   "metadata": {},
   "outputs": [],
   "source": [
    "## data preprocessing for fundamental data\n",
    "## find the columns that has more than 1/4 of NaN values\n",
    "def cols_NaNRatio_largerThan_Pct(ser,pct = 1/4):\n",
    "  return ser.columns[(ser.isna()*1).apply(sum)/ser.shape[0]>pct]\n",
    "\n",
    "#list of first 3 years data\n",
    "first3years = list(relevant_fundamentals['Period Ending'].unique()[:3])\n",
    "\n",
    "x = (relevant_fundamentals\n",
    "                  .drop(cols_NaNRatio_largerThan_Pct(relevant_fundamentals).tolist(),axis=1)\n",
    "                  .fillna(0)\n",
    "                  .query(\" `Ticker Symbol` == @non_na_tickers and `Period Ending` == @first3years \")\n",
    "                 )"
   ]
  },
  {
   "cell_type": "code",
   "execution_count": 98,
   "metadata": {},
   "outputs": [
    {
     "data": {
      "text/html": [
       "<div>\n",
       "<style scoped>\n",
       "    .dataframe tbody tr th:only-of-type {\n",
       "        vertical-align: middle;\n",
       "    }\n",
       "\n",
       "    .dataframe tbody tr th {\n",
       "        vertical-align: top;\n",
       "    }\n",
       "\n",
       "    .dataframe thead th {\n",
       "        text-align: right;\n",
       "    }\n",
       "</style>\n",
       "<table border=\"1\" class=\"dataframe\">\n",
       "  <thead>\n",
       "    <tr style=\"text-align: right;\">\n",
       "      <th></th>\n",
       "      <th>^FVXNominal</th>\n",
       "      <th>^IRXNominal</th>\n",
       "      <th>^TNXNominal</th>\n",
       "      <th>^TYXNominal</th>\n",
       "      <th>^FVXPct_chng_6</th>\n",
       "      <th>^IRXPct_chng_6</th>\n",
       "      <th>^TNXPct_chng_6</th>\n",
       "      <th>^TYXPct_chng_6</th>\n",
       "      <th>^FVXPct_chng_1</th>\n",
       "      <th>^IRXPct_chng_1</th>\n",
       "      <th>^TNXPct_chng_1</th>\n",
       "      <th>^TYXPct_chng_1</th>\n",
       "    </tr>\n",
       "  </thead>\n",
       "  <tbody>\n",
       "    <tr>\n",
       "      <th>2013-03-08</th>\n",
       "      <td>0.897</td>\n",
       "      <td>0.087</td>\n",
       "      <td>2.056</td>\n",
       "      <td>3.255</td>\n",
       "      <td>0.405956</td>\n",
       "      <td>-0.13</td>\n",
       "      <td>0.237809</td>\n",
       "      <td>0.151805</td>\n",
       "      <td>0.087273</td>\n",
       "      <td>0.338462</td>\n",
       "      <td>0.053819</td>\n",
       "      <td>0.029086</td>\n",
       "    </tr>\n",
       "    <tr>\n",
       "      <th>2014-03-07</th>\n",
       "      <td>1.640</td>\n",
       "      <td>0.045</td>\n",
       "      <td>2.790</td>\n",
       "      <td>3.722</td>\n",
       "      <td>-0.072398</td>\n",
       "      <td>2.00</td>\n",
       "      <td>-0.050374</td>\n",
       "      <td>-0.038988</td>\n",
       "      <td>0.121751</td>\n",
       "      <td>-0.375000</td>\n",
       "      <td>0.042991</td>\n",
       "      <td>0.015553</td>\n",
       "    </tr>\n",
       "    <tr>\n",
       "      <th>2015-03-06</th>\n",
       "      <td>1.696</td>\n",
       "      <td>0.005</td>\n",
       "      <td>2.240</td>\n",
       "      <td>2.839</td>\n",
       "      <td>0.004144</td>\n",
       "      <td>-0.75</td>\n",
       "      <td>-0.089801</td>\n",
       "      <td>-0.122953</td>\n",
       "      <td>0.158470</td>\n",
       "      <td>-0.666667</td>\n",
       "      <td>0.155831</td>\n",
       "      <td>0.127035</td>\n",
       "    </tr>\n",
       "  </tbody>\n",
       "</table>\n",
       "</div>"
      ],
      "text/plain": [
       "            ^FVXNominal  ^IRXNominal  ^TNXNominal  ^TYXNominal  \\\n",
       "2013-03-08        0.897        0.087        2.056        3.255   \n",
       "2014-03-07        1.640        0.045        2.790        3.722   \n",
       "2015-03-06        1.696        0.005        2.240        2.839   \n",
       "\n",
       "            ^FVXPct_chng_6  ^IRXPct_chng_6  ^TNXPct_chng_6  ^TYXPct_chng_6  \\\n",
       "2013-03-08        0.405956           -0.13        0.237809        0.151805   \n",
       "2014-03-07       -0.072398            2.00       -0.050374       -0.038988   \n",
       "2015-03-06        0.004144           -0.75       -0.089801       -0.122953   \n",
       "\n",
       "            ^FVXPct_chng_1  ^IRXPct_chng_1  ^TNXPct_chng_1  ^TYXPct_chng_1  \n",
       "2013-03-08        0.087273        0.338462        0.053819        0.029086  \n",
       "2014-03-07        0.121751       -0.375000        0.042991        0.015553  \n",
       "2015-03-06        0.158470       -0.666667        0.155831        0.127035  "
      ]
     },
     "execution_count": 98,
     "metadata": {},
     "output_type": "execute_result"
    }
   ],
   "source": [
    "IR_features"
   ]
  },
  {
   "cell_type": "code",
   "execution_count": 110,
   "metadata": {},
   "outputs": [],
   "source": [
    "x_dated = x.set_index(\"Period Ending\").rename(index={\"2012-12-31\":\"2013-03-08\",\"2013-12-31\":\"2014-03-07\",\"2014-12-31\":\"2015-03-06\"})\n",
    "x_dated.index = pd.to_datetime(x_dated.index)\n",
    "X = x_dated.join(IR_features)"
   ]
  },
  {
   "cell_type": "code",
   "execution_count": 112,
   "metadata": {},
   "outputs": [],
   "source": []
  },
  {
   "cell_type": "code",
   "execution_count": 113,
   "metadata": {},
   "outputs": [],
   "source": [
    "X.to_csv(\"x_dataframe\")"
   ]
  },
  {
   "cell_type": "code",
   "execution_count": 114,
   "metadata": {
    "colab": {
     "base_uri": "https://localhost:8080/",
     "height": 694
    },
    "id": "0Ra_bf_M9-Lz",
    "outputId": "bc6021c3-dc3a-42c1-80a1-c5e95b367200"
   },
   "outputs": [
    {
     "data": {
      "text/html": [
       "<div>\n",
       "<style scoped>\n",
       "    .dataframe tbody tr th:only-of-type {\n",
       "        vertical-align: middle;\n",
       "    }\n",
       "\n",
       "    .dataframe tbody tr th {\n",
       "        vertical-align: top;\n",
       "    }\n",
       "\n",
       "    .dataframe thead th {\n",
       "        text-align: right;\n",
       "    }\n",
       "</style>\n",
       "<table border=\"1\" class=\"dataframe\">\n",
       "  <thead>\n",
       "    <tr style=\"text-align: right;\">\n",
       "      <th></th>\n",
       "      <th>Ticker Symbol</th>\n",
       "      <th>Accounts Payable</th>\n",
       "      <th>Accounts Receivable</th>\n",
       "      <th>Add'l income/expense items</th>\n",
       "      <th>After Tax ROE</th>\n",
       "      <th>Capital Expenditures</th>\n",
       "      <th>Capital Surplus</th>\n",
       "      <th>Cash and Cash Equivalents</th>\n",
       "      <th>Changes in Inventories</th>\n",
       "      <th>Common Stocks</th>\n",
       "      <th>...</th>\n",
       "      <th>^TNXNominal</th>\n",
       "      <th>^TYXNominal</th>\n",
       "      <th>^FVXPct_chng_6</th>\n",
       "      <th>^IRXPct_chng_6</th>\n",
       "      <th>^TNXPct_chng_6</th>\n",
       "      <th>^TYXPct_chng_6</th>\n",
       "      <th>^FVXPct_chng_1</th>\n",
       "      <th>^IRXPct_chng_1</th>\n",
       "      <th>^TNXPct_chng_1</th>\n",
       "      <th>^TYXPct_chng_1</th>\n",
       "    </tr>\n",
       "  </thead>\n",
       "  <tbody>\n",
       "    <tr>\n",
       "      <th>2013-03-08</th>\n",
       "      <td>AFL</td>\n",
       "      <td>3.858000e+09</td>\n",
       "      <td>-1.990000e+08</td>\n",
       "      <td>0.000000e+00</td>\n",
       "      <td>18.0</td>\n",
       "      <td>0.0</td>\n",
       "      <td>1.505000e+09</td>\n",
       "      <td>2.041000e+09</td>\n",
       "      <td>0.0</td>\n",
       "      <td>6.700000e+07</td>\n",
       "      <td>...</td>\n",
       "      <td>2.056</td>\n",
       "      <td>3.255</td>\n",
       "      <td>0.405956</td>\n",
       "      <td>-0.13</td>\n",
       "      <td>0.237809</td>\n",
       "      <td>0.151805</td>\n",
       "      <td>0.087273</td>\n",
       "      <td>0.338462</td>\n",
       "      <td>0.053819</td>\n",
       "      <td>0.029086</td>\n",
       "    </tr>\n",
       "    <tr>\n",
       "      <th>2013-03-08</th>\n",
       "      <td>AIG</td>\n",
       "      <td>0.000000e+00</td>\n",
       "      <td>3.085000e+09</td>\n",
       "      <td>-6.768000e+09</td>\n",
       "      <td>4.0</td>\n",
       "      <td>0.0</td>\n",
       "      <td>8.041000e+10</td>\n",
       "      <td>1.151000e+09</td>\n",
       "      <td>0.0</td>\n",
       "      <td>4.766000e+09</td>\n",
       "      <td>...</td>\n",
       "      <td>2.056</td>\n",
       "      <td>3.255</td>\n",
       "      <td>0.405956</td>\n",
       "      <td>-0.13</td>\n",
       "      <td>0.237809</td>\n",
       "      <td>0.151805</td>\n",
       "      <td>0.087273</td>\n",
       "      <td>0.338462</td>\n",
       "      <td>0.053819</td>\n",
       "      <td>0.029086</td>\n",
       "    </tr>\n",
       "    <tr>\n",
       "      <th>2013-03-08</th>\n",
       "      <td>AIV</td>\n",
       "      <td>3.443580e+08</td>\n",
       "      <td>3.071600e+07</td>\n",
       "      <td>3.074300e+07</td>\n",
       "      <td>14.0</td>\n",
       "      <td>-359926000.0</td>\n",
       "      <td>3.712684e+09</td>\n",
       "      <td>2.299980e+08</td>\n",
       "      <td>0.0</td>\n",
       "      <td>1.456000e+06</td>\n",
       "      <td>...</td>\n",
       "      <td>2.056</td>\n",
       "      <td>3.255</td>\n",
       "      <td>0.405956</td>\n",
       "      <td>-0.13</td>\n",
       "      <td>0.237809</td>\n",
       "      <td>0.151805</td>\n",
       "      <td>0.087273</td>\n",
       "      <td>0.338462</td>\n",
       "      <td>0.053819</td>\n",
       "      <td>0.029086</td>\n",
       "    </tr>\n",
       "    <tr>\n",
       "      <th>2013-03-08</th>\n",
       "      <td>ALL</td>\n",
       "      <td>0.000000e+00</td>\n",
       "      <td>-1.685000e+09</td>\n",
       "      <td>1.800000e+07</td>\n",
       "      <td>11.0</td>\n",
       "      <td>-285000000.0</td>\n",
       "      <td>3.162000e+09</td>\n",
       "      <td>8.060000e+08</td>\n",
       "      <td>0.0</td>\n",
       "      <td>9.000000e+06</td>\n",
       "      <td>...</td>\n",
       "      <td>2.056</td>\n",
       "      <td>3.255</td>\n",
       "      <td>0.405956</td>\n",
       "      <td>-0.13</td>\n",
       "      <td>0.237809</td>\n",
       "      <td>0.151805</td>\n",
       "      <td>0.087273</td>\n",
       "      <td>0.338462</td>\n",
       "      <td>0.053819</td>\n",
       "      <td>0.029086</td>\n",
       "    </tr>\n",
       "    <tr>\n",
       "      <th>2013-03-08</th>\n",
       "      <td>AMG</td>\n",
       "      <td>0.000000e+00</td>\n",
       "      <td>-4.160000e+07</td>\n",
       "      <td>2.200000e+07</td>\n",
       "      <td>8.0</td>\n",
       "      <td>-20000000.0</td>\n",
       "      <td>8.685000e+08</td>\n",
       "      <td>4.304000e+08</td>\n",
       "      <td>0.0</td>\n",
       "      <td>5.000000e+05</td>\n",
       "      <td>...</td>\n",
       "      <td>2.056</td>\n",
       "      <td>3.255</td>\n",
       "      <td>0.405956</td>\n",
       "      <td>-0.13</td>\n",
       "      <td>0.237809</td>\n",
       "      <td>0.151805</td>\n",
       "      <td>0.087273</td>\n",
       "      <td>0.338462</td>\n",
       "      <td>0.053819</td>\n",
       "      <td>0.029086</td>\n",
       "    </tr>\n",
       "  </tbody>\n",
       "</table>\n",
       "<p>5 rows × 86 columns</p>\n",
       "</div>"
      ],
      "text/plain": [
       "           Ticker Symbol  Accounts Payable  Accounts Receivable  \\\n",
       "2013-03-08           AFL      3.858000e+09        -1.990000e+08   \n",
       "2013-03-08           AIG      0.000000e+00         3.085000e+09   \n",
       "2013-03-08           AIV      3.443580e+08         3.071600e+07   \n",
       "2013-03-08           ALL      0.000000e+00        -1.685000e+09   \n",
       "2013-03-08           AMG      0.000000e+00        -4.160000e+07   \n",
       "\n",
       "            Add'l income/expense items  After Tax ROE  Capital Expenditures  \\\n",
       "2013-03-08                0.000000e+00           18.0                   0.0   \n",
       "2013-03-08               -6.768000e+09            4.0                   0.0   \n",
       "2013-03-08                3.074300e+07           14.0          -359926000.0   \n",
       "2013-03-08                1.800000e+07           11.0          -285000000.0   \n",
       "2013-03-08                2.200000e+07            8.0           -20000000.0   \n",
       "\n",
       "            Capital Surplus  Cash and Cash Equivalents  \\\n",
       "2013-03-08     1.505000e+09               2.041000e+09   \n",
       "2013-03-08     8.041000e+10               1.151000e+09   \n",
       "2013-03-08     3.712684e+09               2.299980e+08   \n",
       "2013-03-08     3.162000e+09               8.060000e+08   \n",
       "2013-03-08     8.685000e+08               4.304000e+08   \n",
       "\n",
       "            Changes in Inventories  Common Stocks  ...  ^TNXNominal  \\\n",
       "2013-03-08                     0.0   6.700000e+07  ...        2.056   \n",
       "2013-03-08                     0.0   4.766000e+09  ...        2.056   \n",
       "2013-03-08                     0.0   1.456000e+06  ...        2.056   \n",
       "2013-03-08                     0.0   9.000000e+06  ...        2.056   \n",
       "2013-03-08                     0.0   5.000000e+05  ...        2.056   \n",
       "\n",
       "            ^TYXNominal  ^FVXPct_chng_6  ^IRXPct_chng_6  ^TNXPct_chng_6  \\\n",
       "2013-03-08        3.255        0.405956           -0.13        0.237809   \n",
       "2013-03-08        3.255        0.405956           -0.13        0.237809   \n",
       "2013-03-08        3.255        0.405956           -0.13        0.237809   \n",
       "2013-03-08        3.255        0.405956           -0.13        0.237809   \n",
       "2013-03-08        3.255        0.405956           -0.13        0.237809   \n",
       "\n",
       "            ^TYXPct_chng_6  ^FVXPct_chng_1  ^IRXPct_chng_1  ^TNXPct_chng_1  \\\n",
       "2013-03-08        0.151805        0.087273        0.338462        0.053819   \n",
       "2013-03-08        0.151805        0.087273        0.338462        0.053819   \n",
       "2013-03-08        0.151805        0.087273        0.338462        0.053819   \n",
       "2013-03-08        0.151805        0.087273        0.338462        0.053819   \n",
       "2013-03-08        0.151805        0.087273        0.338462        0.053819   \n",
       "\n",
       "            ^TYXPct_chng_1  \n",
       "2013-03-08        0.029086  \n",
       "2013-03-08        0.029086  \n",
       "2013-03-08        0.029086  \n",
       "2013-03-08        0.029086  \n",
       "2013-03-08        0.029086  \n",
       "\n",
       "[5 rows x 86 columns]"
      ]
     },
     "execution_count": 114,
     "metadata": {},
     "output_type": "execute_result"
    }
   ],
   "source": [
    "X.head()"
   ]
  },
  {
   "cell_type": "code",
   "execution_count": 38,
   "metadata": {},
   "outputs": [],
   "source": []
  },
  {
   "cell_type": "code",
   "execution_count": null,
   "metadata": {},
   "outputs": [],
   "source": []
  }
 ],
 "metadata": {
  "colab": {
   "authorship_tag": "ABX9TyMh6XOFikvM5IjgGRIV+nc7",
   "include_colab_link": true,
   "name": "Data Preprocessing.ipynb",
   "provenance": []
  },
  "kernelspec": {
   "display_name": "tfenv",
   "language": "python",
   "name": "tfenv"
  },
  "language_info": {
   "codemirror_mode": {
    "name": "ipython",
    "version": 3
   },
   "file_extension": ".py",
   "mimetype": "text/x-python",
   "name": "python",
   "nbconvert_exporter": "python",
   "pygments_lexer": "ipython3",
   "version": "3.8.10"
  }
 },
 "nbformat": 4,
 "nbformat_minor": 4
}
