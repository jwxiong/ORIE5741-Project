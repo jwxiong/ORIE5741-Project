{
 "cells": [
  {
   "cell_type": "markdown",
   "metadata": {
    "colab_type": "text",
    "id": "view-in-github"
   },
   "source": [
    "<a href=\"https://colab.research.google.com/github/jwxiong/ORIE5741-Project/blob/main/Data_Preprocessing.ipynb\" target=\"_parent\"><img src=\"https://colab.research.google.com/assets/colab-badge.svg\" alt=\"Open In Colab\"/></a>"
   ]
  },
  {
   "cell_type": "code",
   "execution_count": 3,
   "metadata": {
    "id": "ZRycADxx8x6p"
   },
   "outputs": [],
   "source": [
    "import numpy as np\n",
    "import pandas as pd\n",
    "import matplotlib.pyplot as plt\n",
    "%matplotlib inline\n",
    "import seaborn as sns\n",
    "from datetime import datetime"
   ]
  },
  {
   "cell_type": "code",
   "execution_count": 4,
   "metadata": {
    "id": "W8BdqoE39DmE"
   },
   "outputs": [],
   "source": [
    "funda = pd.read_csv(\"fundamentals.csv\").drop(['Unnamed: 0'], axis = 1)\n",
    "price_adj = pd.read_csv(\"prices-split-adjusted.csv\")\n",
    "securities = pd.read_csv(\"securities.csv\")\n",
    "#https://www.kaggle.com/dgawlik/nyse"
   ]
  },
  {
   "cell_type": "markdown",
   "metadata": {
    "id": "nqUh-HvB9Ln3"
   },
   "source": [
    "reduce scope to finance and REITs that report on Dec 31st"
   ]
  },
  {
   "cell_type": "code",
   "execution_count": 5,
   "metadata": {
    "id": "x48S93YS9Qu1"
   },
   "outputs": [],
   "source": [
    "#find finance and REIT company tickers\n",
    "finance_reit_tickers = list((securities\n",
    " .query(\"`GICS Sector` == 'Financials' or `GICS Sub Industry` == ['REITs','Residential REITs','Office REITs','Retail REITs']\")\n",
    ")['Ticker symbol'])\n",
    "\n",
    "#finance and REIT companies that file on dec 31st\n",
    "finance_reit__dec_file_tickers = list((funda\n",
    " .query(\" `Ticker Symbol` == @finance_reit_tickers and `Period Ending` == '2012-12-31' \")\n",
    ")['Ticker Symbol'])\n",
    "\n",
    "#two normal dataframes. one for fundamentals data and another for general information about the securities\n",
    "relevant_fundamentals = (funda.query(\" `Ticker Symbol` == @finance_reit__dec_file_tickers \"))\n",
    "relevant_securities = (securities.query(\" `Ticker symbol` == @finance_reit__dec_file_tickers \"))"
   ]
  },
  {
   "cell_type": "markdown",
   "metadata": {
    "id": "SyEIeyNy963p"
   },
   "source": [
    "Create stock price dataframe with heirarchical multi index. so there is the higher index which allows you to choose category returns, volume or close price etc. then the lower level index lets you select a stock"
   ]
  },
  {
   "cell_type": "code",
   "execution_count": 6,
   "metadata": {
    "id": "ondKLf7g9963"
   },
   "outputs": [],
   "source": [
    "#create multi index \n",
    "\n",
    "intermediate = (price_adj\n",
    " .assign(date = lambda df: pd.to_datetime(df.date))\n",
    " .query(\" `symbol` == @finance_reit__dec_file_tickers \")\n",
    " .set_index(['date','symbol'])\n",
    " .assign(daily_return = lambda df: (df.close - df.open)/ df.open)\n",
    " .assign(dispersion = lambda df: (df.high - df.low)/ df.open)\n",
    " .unstack()\n",
    ")\n",
    "\n",
    "#create returns variable\n",
    "returns = intermediate['close'].pct_change()\n",
    "returns.columns = pd.MultiIndex.from_product([['returns'],intermediate['close']])\n",
    "\n",
    "#create gap open variable\n",
    "opening = intermediate['open'][:-1].reset_index().drop('date',axis=1)\n",
    "previous_close = intermediate['close'][1:].reset_index().drop('date',axis=1)\n",
    "gap_open = opening/previous_close - 1\n",
    "gap_open = pd.DataFrame([[np.nan] * len(gap_open.columns)], columns=gap_open.columns).append(gap_open, ignore_index=True)\n",
    "gap_open.index = returns.index\n",
    "gap_open.columns = pd.MultiIndex.from_product([['gap_open'],intermediate['close']])\n",
    "\n",
    "#append variables\n",
    "multi_index = pd.concat([intermediate,gap_open,returns],axis=1)[1:]"
   ]
  },
  {
   "cell_type": "markdown",
   "metadata": {
    "id": "UC7Cp3lJ-UWT"
   },
   "source": [
    "Create dataframe of annual returns based on our stock price data, note we only have 3 years of returns data and therefore must reduce our fundamentals data"
   ]
  },
  {
   "cell_type": "code",
   "execution_count": 7,
   "metadata": {
    "id": "6WzV4sMK99-p"
   },
   "outputs": [],
   "source": [
    "returns = multi_index['returns'].copy()\n",
    "annual_rtns = pd.DataFrame(columns=returns.columns)\n",
    "for n in range(2013,2016):\n",
    "    year_start = str(n)+'-03-08'\n",
    "    year_end = str(n+1)+'-03-08'\n",
    "    yearly_rtn = returns[year_start:year_end].apply(lambda x: ((x + 1).cumprod()-1).last(\"D\"))\n",
    "    annual_rtns = pd.concat([annual_rtns,yearly_rtn])"
   ]
  },
  {
   "cell_type": "markdown",
   "metadata": {
    "id": "Wbrm3xluCWhD"
   },
   "source": [
    "annual returns in same shape as fundamentals, prepped for regression, this drops 3 companies who were missing returns in our dataset"
   ]
  },
  {
   "cell_type": "code",
   "execution_count": 8,
   "metadata": {
    "colab": {
     "base_uri": "https://localhost:8080/"
    },
    "id": "SYeGBEjCCLng",
    "outputId": "7865bf4b-180f-4eb2-b45a-e35c7db65e09"
   },
   "outputs": [
    {
     "data": {
      "text/plain": [
       "(171,)"
      ]
     },
     "execution_count": 8,
     "metadata": {},
     "output_type": "execute_result"
    }
   ],
   "source": [
    "non_na_tickers = list(set(finance_reit__dec_file_tickers)-set(annual_rtns.columns[annual_rtns.isna().sum()>0]))\n",
    "\n",
    "y = (annual_rtns.T\n",
    "  .stack()\n",
    "  .reset_index()\n",
    "  .sort_values(['level_1','symbol'])\n",
    "  .query(\" `symbol` == @non_na_tickers \")\n",
    ")[0].values\n",
    "y.shape"
   ]
  },
  {
   "cell_type": "code",
   "execution_count": 12,
   "metadata": {},
   "outputs": [],
   "source": [
    "pd.DataFrame(y).to_csv(\"y_dataframe\")"
   ]
  },
  {
   "cell_type": "markdown",
   "metadata": {
    "id": "_Wgk3XSTDPN7"
   },
   "source": [
    "Company fundamentals, dropping companies with missing returns data, dropping columns that are missing more than 1/4 of values, only use first 3 years"
   ]
  },
  {
   "cell_type": "code",
   "execution_count": 9,
   "metadata": {
    "id": "g_Mwi8mwEPy0"
   },
   "outputs": [],
   "source": [
    "## data preprocessing for fundamental data\n",
    "## find the columns that has more than 1/4 of NaN values\n",
    "def cols_NaNRatio_largerThan_Pct(ser,pct = 1/4):\n",
    "  return ser.columns[(ser.isna()*1).apply(sum)/ser.shape[0]>pct]\n",
    "\n",
    "#list of first 3 years data\n",
    "first3years = list(relevant_fundamentals['Period Ending'].unique()[:3])\n",
    "\n",
    "x = (relevant_fundamentals\n",
    "                  .drop(cols_NaNRatio_largerThan_Pct(relevant_fundamentals).tolist(),axis=1)\n",
    "                  .fillna(0)\n",
    "                  .query(\" `Ticker Symbol` == @non_na_tickers and `Period Ending` == @first3years \")\n",
    "                 )"
   ]
  },
  {
   "cell_type": "code",
   "execution_count": 13,
   "metadata": {},
   "outputs": [],
   "source": [
    "x.to_csv(\"x_dataframe\")"
   ]
  },
  {
   "cell_type": "code",
   "execution_count": null,
   "metadata": {
    "colab": {
     "base_uri": "https://localhost:8080/",
     "height": 694
    },
    "id": "0Ra_bf_M9-Lz",
    "outputId": "bc6021c3-dc3a-42c1-80a1-c5e95b367200"
   },
   "outputs": [],
   "source": []
  },
  {
   "cell_type": "markdown",
   "metadata": {
    "id": "WYDQZz-7GMj6"
   },
   "source": []
  }
 ],
 "metadata": {
  "colab": {
   "authorship_tag": "ABX9TyMh6XOFikvM5IjgGRIV+nc7",
   "include_colab_link": true,
   "name": "Data Preprocessing.ipynb",
   "provenance": []
  },
  "kernelspec": {
   "display_name": "tfenv",
   "language": "python",
   "name": "tfenv"
  },
  "language_info": {
   "codemirror_mode": {
    "name": "ipython",
    "version": 3
   },
   "file_extension": ".py",
   "mimetype": "text/x-python",
   "name": "python",
   "nbconvert_exporter": "python",
   "pygments_lexer": "ipython3",
   "version": "3.8.10"
  }
 },
 "nbformat": 4,
 "nbformat_minor": 4
}
