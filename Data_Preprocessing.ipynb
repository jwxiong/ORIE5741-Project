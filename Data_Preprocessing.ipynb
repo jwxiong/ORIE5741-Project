{
 "cells": [
  {
   "cell_type": "markdown",
   "metadata": {
    "colab_type": "text",
    "id": "view-in-github"
   },
   "source": [
    "<a href=\"https://colab.research.google.com/github/jwxiong/ORIE5741-Project/blob/main/Data_Preprocessing.ipynb\" target=\"_parent\"><img src=\"https://colab.research.google.com/assets/colab-badge.svg\" alt=\"Open In Colab\"/></a>"
   ]
  },
  {
   "cell_type": "code",
   "execution_count": 3,
   "metadata": {
    "id": "ZRycADxx8x6p"
   },
   "outputs": [],
   "source": [
    "import numpy as np\n",
    "import pandas as pd\n",
    "import matplotlib.pyplot as plt\n",
    "%matplotlib inline\n",
    "import seaborn as sns\n",
    "from datetime import datetime"
   ]
  },
  {
   "cell_type": "code",
   "execution_count": 4,
   "metadata": {
    "id": "W8BdqoE39DmE"
   },
   "outputs": [],
   "source": [
    "funda = pd.read_csv(\"fundamentals.csv\").drop(['Unnamed: 0'], axis = 1)\n",
    "price_adj = pd.read_csv(\"prices-split-adjusted.csv\")\n",
    "securities = pd.read_csv(\"securities.csv\")\n",
    "#https://www.kaggle.com/dgawlik/nyse"
   ]
  },
  {
   "cell_type": "markdown",
   "metadata": {
    "id": "nqUh-HvB9Ln3"
   },
   "source": [
    "reduce scope to finance and REITs that report on Dec 31st"
   ]
  },
  {
   "cell_type": "code",
   "execution_count": 5,
   "metadata": {
    "id": "x48S93YS9Qu1"
   },
   "outputs": [],
   "source": [
    "#find finance and REIT company tickers\n",
    "finance_reit_tickers = list((securities\n",
    " .query(\"`GICS Sector` == 'Financials' or `GICS Sub Industry` == ['REITs','Residential REITs','Office REITs','Retail REITs']\")\n",
    ")['Ticker symbol'])\n",
    "\n",
    "#finance and REIT companies that file on dec 31st\n",
    "finance_reit__dec_file_tickers = list((funda\n",
    " .query(\" `Ticker Symbol` == @finance_reit_tickers and `Period Ending` == '2012-12-31' \")\n",
    ")['Ticker Symbol'])\n",
    "\n",
    "#two normal dataframes. one for fundamentals data and another for general information about the securities\n",
    "relevant_fundamentals = (funda.query(\" `Ticker Symbol` == @finance_reit__dec_file_tickers \"))\n",
    "relevant_securities = (securities.query(\" `Ticker symbol` == @finance_reit__dec_file_tickers \"))"
   ]
  },
  {
   "cell_type": "markdown",
   "metadata": {
    "id": "SyEIeyNy963p"
   },
   "source": [
    "Create stock price dataframe with heirarchical multi index. so there is the higher index which allows you to choose category returns, volume or close price etc. then the lower level index lets you select a stock"
   ]
  },
  {
   "cell_type": "code",
   "execution_count": 6,
   "metadata": {
    "id": "ondKLf7g9963"
   },
   "outputs": [],
   "source": [
    "#create multi index \n",
    "\n",
    "intermediate = (price_adj\n",
    " .assign(date = lambda df: pd.to_datetime(df.date))\n",
    " .query(\" `symbol` == @finance_reit__dec_file_tickers \")\n",
    " .set_index(['date','symbol'])\n",
    " .assign(daily_return = lambda df: (df.close - df.open)/ df.open)\n",
    " .assign(dispersion = lambda df: (df.high - df.low)/ df.open)\n",
    " .unstack()\n",
    ")\n",
    "\n",
    "#create returns variable\n",
    "returns = intermediate['close'].pct_change()\n",
    "returns.columns = pd.MultiIndex.from_product([['returns'],intermediate['close']])\n",
    "\n",
    "#create gap open variable\n",
    "opening = intermediate['open'][:-1].reset_index().drop('date',axis=1)\n",
    "previous_close = intermediate['close'][1:].reset_index().drop('date',axis=1)\n",
    "gap_open = opening/previous_close - 1\n",
    "gap_open = pd.DataFrame([[np.nan] * len(gap_open.columns)], columns=gap_open.columns).append(gap_open, ignore_index=True)\n",
    "gap_open.index = returns.index\n",
    "gap_open.columns = pd.MultiIndex.from_product([['gap_open'],intermediate['close']])\n",
    "\n",
    "#append variables\n",
    "multi_index = pd.concat([intermediate,gap_open,returns],axis=1)[1:]"
   ]
  },
  {
   "cell_type": "markdown",
   "metadata": {
    "id": "UC7Cp3lJ-UWT"
   },
   "source": [
    "Create dataframe of annual returns based on our stock price data, note we only have 3 years of returns data and therefore must reduce our fundamentals data"
   ]
  },
  {
   "cell_type": "code",
   "execution_count": 7,
   "metadata": {
    "id": "6WzV4sMK99-p"
   },
   "outputs": [],
   "source": [
    "returns = multi_index['returns'].copy()\n",
    "annual_rtns = pd.DataFrame(columns=returns.columns)\n",
    "for n in range(2013,2016):\n",
    "    year_start = str(n)+'-03-08'\n",
    "    year_end = str(n+1)+'-03-08'\n",
    "    yearly_rtn = returns[year_start:year_end].apply(lambda x: ((x + 1).cumprod()-1).last(\"D\"))\n",
    "    annual_rtns = pd.concat([annual_rtns,yearly_rtn])"
   ]
  },
  {
   "cell_type": "markdown",
   "metadata": {
    "id": "Wbrm3xluCWhD"
   },
   "source": [
    "annual returns in same shape as fundamentals, prepped for regression, this drops 3 companies who were missing returns in our dataset"
   ]
  },
  {
   "cell_type": "code",
   "execution_count": 8,
   "metadata": {
    "colab": {
     "base_uri": "https://localhost:8080/"
    },
    "id": "SYeGBEjCCLng",
    "outputId": "7865bf4b-180f-4eb2-b45a-e35c7db65e09"
   },
   "outputs": [
    {
     "data": {
      "text/plain": [
       "(171,)"
      ]
     },
     "execution_count": 8,
     "metadata": {},
     "output_type": "execute_result"
    }
   ],
   "source": [
    "non_na_tickers = list(set(finance_reit__dec_file_tickers)-set(annual_rtns.columns[annual_rtns.isna().sum()>0]))\n",
    "\n",
    "y = (annual_rtns.T\n",
    "  .stack()\n",
    "  .reset_index()\n",
    "  .sort_values(['level_1','symbol'])\n",
    "  .query(\" `symbol` == @non_na_tickers \")\n",
    ")[0].values\n",
    "y.shape"
   ]
  },
  {
   "cell_type": "code",
   "execution_count": 12,
   "metadata": {},
   "outputs": [],
   "source": [
    "pd.DataFrame(y).to_csv(\"y_dataframe\")"
   ]
  },
  {
   "cell_type": "markdown",
   "metadata": {
    "id": "_Wgk3XSTDPN7"
   },
   "source": [
    "Company fundamentals, dropping companies with missing returns data, dropping columns that are missing more than 1/4 of values, only use first 3 years"
   ]
  },
  {
   "cell_type": "code",
   "execution_count": 9,
   "metadata": {
    "id": "g_Mwi8mwEPy0"
   },
   "outputs": [],
   "source": [
    "## data preprocessing for fundamental data\n",
    "## find the columns that has more than 1/4 of NaN values\n",
    "def cols_NaNRatio_largerThan_Pct(ser,pct = 1/4):\n",
    "  return ser.columns[(ser.isna()*1).apply(sum)/ser.shape[0]>pct]\n",
    "\n",
    "#list of first 3 years data\n",
    "first3years = list(relevant_fundamentals['Period Ending'].unique()[:3])\n",
    "\n",
    "x = (relevant_fundamentals\n",
    "                  .drop(cols_NaNRatio_largerThan_Pct(relevant_fundamentals).tolist(),axis=1)\n",
    "                  .fillna(0)\n",
    "                  .query(\" `Ticker Symbol` == @non_na_tickers and `Period Ending` == @first3years \")\n",
    "                 )"
   ]
  },
  {
   "cell_type": "code",
   "execution_count": 13,
   "metadata": {},
   "outputs": [],
   "source": [
    "x.to_csv(\"x_dataframe\")"
   ]
  },
  {
   "cell_type": "code",
   "execution_count": 11,
   "metadata": {
    "colab": {
     "base_uri": "https://localhost:8080/",
     "height": 694
    },
    "id": "0Ra_bf_M9-Lz",
    "outputId": "bc6021c3-dc3a-42c1-80a1-c5e95b367200"
   },
   "outputs": [
    {
     "data": {
      "text/html": [
       "<div>\n",
       "<style scoped>\n",
       "    .dataframe tbody tr th:only-of-type {\n",
       "        vertical-align: middle;\n",
       "    }\n",
       "\n",
       "    .dataframe tbody tr th {\n",
       "        vertical-align: top;\n",
       "    }\n",
       "\n",
       "    .dataframe thead th {\n",
       "        text-align: right;\n",
       "    }\n",
       "</style>\n",
       "<table border=\"1\" class=\"dataframe\">\n",
       "  <thead>\n",
       "    <tr style=\"text-align: right;\">\n",
       "      <th></th>\n",
       "      <th>Ticker Symbol</th>\n",
       "      <th>Period Ending</th>\n",
       "      <th>Accounts Payable</th>\n",
       "      <th>Accounts Receivable</th>\n",
       "      <th>Add'l income/expense items</th>\n",
       "      <th>After Tax ROE</th>\n",
       "      <th>Capital Expenditures</th>\n",
       "      <th>Capital Surplus</th>\n",
       "      <th>Cash and Cash Equivalents</th>\n",
       "      <th>Changes in Inventories</th>\n",
       "      <th>...</th>\n",
       "      <th>Total Current Assets</th>\n",
       "      <th>Total Current Liabilities</th>\n",
       "      <th>Total Equity</th>\n",
       "      <th>Total Liabilities</th>\n",
       "      <th>Total Liabilities &amp; Equity</th>\n",
       "      <th>Total Revenue</th>\n",
       "      <th>Treasury Stock</th>\n",
       "      <th>For Year</th>\n",
       "      <th>Earnings Per Share</th>\n",
       "      <th>Estimated Shares Outstanding</th>\n",
       "    </tr>\n",
       "  </thead>\n",
       "  <tbody>\n",
       "    <tr>\n",
       "      <th>52</th>\n",
       "      <td>AFL</td>\n",
       "      <td>2012-12-31</td>\n",
       "      <td>3.858000e+09</td>\n",
       "      <td>-1.990000e+08</td>\n",
       "      <td>0.000000e+00</td>\n",
       "      <td>18.0</td>\n",
       "      <td>0.0</td>\n",
       "      <td>1.505000e+09</td>\n",
       "      <td>2.041000e+09</td>\n",
       "      <td>0.0</td>\n",
       "      <td>...</td>\n",
       "      <td>0.0</td>\n",
       "      <td>0.0</td>\n",
       "      <td>1.597800e+10</td>\n",
       "      <td>1.151160e+11</td>\n",
       "      <td>1.310940e+11</td>\n",
       "      <td>2.536400e+10</td>\n",
       "      <td>-5.696000e+09</td>\n",
       "      <td>2012.0</td>\n",
       "      <td>6.14</td>\n",
       "      <td>4.667752e+08</td>\n",
       "    </tr>\n",
       "    <tr>\n",
       "      <th>53</th>\n",
       "      <td>AFL</td>\n",
       "      <td>2013-12-31</td>\n",
       "      <td>3.718000e+09</td>\n",
       "      <td>-8.000000e+06</td>\n",
       "      <td>0.000000e+00</td>\n",
       "      <td>22.0</td>\n",
       "      <td>0.0</td>\n",
       "      <td>1.644000e+09</td>\n",
       "      <td>2.543000e+09</td>\n",
       "      <td>0.0</td>\n",
       "      <td>...</td>\n",
       "      <td>0.0</td>\n",
       "      <td>0.0</td>\n",
       "      <td>1.462000e+10</td>\n",
       "      <td>1.066870e+11</td>\n",
       "      <td>1.213070e+11</td>\n",
       "      <td>2.393900e+10</td>\n",
       "      <td>-6.413000e+09</td>\n",
       "      <td>2013.0</td>\n",
       "      <td>6.80</td>\n",
       "      <td>4.644118e+08</td>\n",
       "    </tr>\n",
       "    <tr>\n",
       "      <th>54</th>\n",
       "      <td>AFL</td>\n",
       "      <td>2014-12-31</td>\n",
       "      <td>5.293000e+09</td>\n",
       "      <td>-7.000000e+06</td>\n",
       "      <td>0.000000e+00</td>\n",
       "      <td>16.0</td>\n",
       "      <td>0.0</td>\n",
       "      <td>1.711000e+09</td>\n",
       "      <td>4.658000e+09</td>\n",
       "      <td>0.0</td>\n",
       "      <td>...</td>\n",
       "      <td>0.0</td>\n",
       "      <td>0.0</td>\n",
       "      <td>1.834700e+10</td>\n",
       "      <td>1.014200e+11</td>\n",
       "      <td>1.197670e+11</td>\n",
       "      <td>2.272800e+10</td>\n",
       "      <td>-7.566000e+09</td>\n",
       "      <td>2014.0</td>\n",
       "      <td>6.54</td>\n",
       "      <td>4.512232e+08</td>\n",
       "    </tr>\n",
       "    <tr>\n",
       "      <th>56</th>\n",
       "      <td>AIG</td>\n",
       "      <td>2012-12-31</td>\n",
       "      <td>0.000000e+00</td>\n",
       "      <td>3.085000e+09</td>\n",
       "      <td>-6.768000e+09</td>\n",
       "      <td>4.0</td>\n",
       "      <td>0.0</td>\n",
       "      <td>8.041000e+10</td>\n",
       "      <td>1.151000e+09</td>\n",
       "      <td>0.0</td>\n",
       "      <td>...</td>\n",
       "      <td>0.0</td>\n",
       "      <td>0.0</td>\n",
       "      <td>9.800200e+10</td>\n",
       "      <td>4.506310e+11</td>\n",
       "      <td>5.486330e+11</td>\n",
       "      <td>7.121400e+10</td>\n",
       "      <td>-1.392400e+10</td>\n",
       "      <td>2012.0</td>\n",
       "      <td>0.00</td>\n",
       "      <td>0.000000e+00</td>\n",
       "    </tr>\n",
       "    <tr>\n",
       "      <th>57</th>\n",
       "      <td>AIG</td>\n",
       "      <td>2013-12-31</td>\n",
       "      <td>0.000000e+00</td>\n",
       "      <td>2.174000e+09</td>\n",
       "      <td>-6.990000e+08</td>\n",
       "      <td>9.0</td>\n",
       "      <td>0.0</td>\n",
       "      <td>8.089900e+10</td>\n",
       "      <td>2.241000e+09</td>\n",
       "      <td>0.0</td>\n",
       "      <td>...</td>\n",
       "      <td>0.0</td>\n",
       "      <td>0.0</td>\n",
       "      <td>1.004700e+11</td>\n",
       "      <td>4.408590e+11</td>\n",
       "      <td>5.413290e+11</td>\n",
       "      <td>6.887400e+10</td>\n",
       "      <td>-1.452000e+10</td>\n",
       "      <td>2013.0</td>\n",
       "      <td>6.16</td>\n",
       "      <td>1.474838e+09</td>\n",
       "    </tr>\n",
       "  </tbody>\n",
       "</table>\n",
       "<p>5 rows × 75 columns</p>\n",
       "</div>"
      ],
      "text/plain": [
       "   Ticker Symbol Period Ending  Accounts Payable  Accounts Receivable  \\\n",
       "52           AFL    2012-12-31      3.858000e+09        -1.990000e+08   \n",
       "53           AFL    2013-12-31      3.718000e+09        -8.000000e+06   \n",
       "54           AFL    2014-12-31      5.293000e+09        -7.000000e+06   \n",
       "56           AIG    2012-12-31      0.000000e+00         3.085000e+09   \n",
       "57           AIG    2013-12-31      0.000000e+00         2.174000e+09   \n",
       "\n",
       "    Add'l income/expense items  After Tax ROE  Capital Expenditures  \\\n",
       "52                0.000000e+00           18.0                   0.0   \n",
       "53                0.000000e+00           22.0                   0.0   \n",
       "54                0.000000e+00           16.0                   0.0   \n",
       "56               -6.768000e+09            4.0                   0.0   \n",
       "57               -6.990000e+08            9.0                   0.0   \n",
       "\n",
       "    Capital Surplus  Cash and Cash Equivalents  Changes in Inventories  ...  \\\n",
       "52     1.505000e+09               2.041000e+09                     0.0  ...   \n",
       "53     1.644000e+09               2.543000e+09                     0.0  ...   \n",
       "54     1.711000e+09               4.658000e+09                     0.0  ...   \n",
       "56     8.041000e+10               1.151000e+09                     0.0  ...   \n",
       "57     8.089900e+10               2.241000e+09                     0.0  ...   \n",
       "\n",
       "    Total Current Assets  Total Current Liabilities  Total Equity  \\\n",
       "52                   0.0                        0.0  1.597800e+10   \n",
       "53                   0.0                        0.0  1.462000e+10   \n",
       "54                   0.0                        0.0  1.834700e+10   \n",
       "56                   0.0                        0.0  9.800200e+10   \n",
       "57                   0.0                        0.0  1.004700e+11   \n",
       "\n",
       "    Total Liabilities  Total Liabilities & Equity  Total Revenue  \\\n",
       "52       1.151160e+11                1.310940e+11   2.536400e+10   \n",
       "53       1.066870e+11                1.213070e+11   2.393900e+10   \n",
       "54       1.014200e+11                1.197670e+11   2.272800e+10   \n",
       "56       4.506310e+11                5.486330e+11   7.121400e+10   \n",
       "57       4.408590e+11                5.413290e+11   6.887400e+10   \n",
       "\n",
       "    Treasury Stock  For Year  Earnings Per Share  Estimated Shares Outstanding  \n",
       "52   -5.696000e+09    2012.0                6.14                  4.667752e+08  \n",
       "53   -6.413000e+09    2013.0                6.80                  4.644118e+08  \n",
       "54   -7.566000e+09    2014.0                6.54                  4.512232e+08  \n",
       "56   -1.392400e+10    2012.0                0.00                  0.000000e+00  \n",
       "57   -1.452000e+10    2013.0                6.16                  1.474838e+09  \n",
       "\n",
       "[5 rows x 75 columns]"
      ]
     },
     "execution_count": 11,
     "metadata": {},
     "output_type": "execute_result"
    }
   ],
   "source": [
    "x.head()"
   ]
  },
  {
   "cell_type": "markdown",
   "metadata": {
    "id": "WYDQZz-7GMj6"
   },
   "source": []
  }
 ],
 "metadata": {
  "colab": {
   "authorship_tag": "ABX9TyMh6XOFikvM5IjgGRIV+nc7",
   "include_colab_link": true,
   "name": "Data Preprocessing.ipynb",
   "provenance": []
  },
  "kernelspec": {
   "display_name": "tfenv",
   "language": "python",
   "name": "tfenv"
  },
  "language_info": {
   "codemirror_mode": {
    "name": "ipython",
    "version": 3
   },
   "file_extension": ".py",
   "mimetype": "text/x-python",
   "name": "python",
   "nbconvert_exporter": "python",
   "pygments_lexer": "ipython3",
   "version": "3.8.10"
  }
 },
 "nbformat": 4,
 "nbformat_minor": 1
}
